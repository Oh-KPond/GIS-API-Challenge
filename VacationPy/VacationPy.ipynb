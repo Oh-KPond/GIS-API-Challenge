{
 "cells": [
  {
   "cell_type": "markdown",
   "metadata": {},
   "source": [
    "# VacationPy\n",
    "----\n",
    "\n",
    "#### Note\n",
    "* Keep an eye on your API usage. Use https://developers.google.com/maps/reporting/gmp-reporting as reference for how to monitor your usage and billing.\n",
    "\n",
    "* Instructions have been included for each segment. You do not have to follow them exactly, but they are included to help you think through the steps."
   ]
  },
  {
   "cell_type": "code",
   "execution_count": 1,
   "metadata": {},
   "outputs": [],
   "source": [
    "# Useful bits of info:\n",
    "#     \n",
    "# Google maps calls:\n",
    "# https://maps.googleapis.com/maps/api/geocode/json?address&api_key\n",
    "# https://maps.googleapis.com/maps/api/geocode/json?address=1600+Amphitheatre+Parkway,\n",
    "# +Mountain+View,+CA&key=YOUR_API_KEY\n",
    "# https://maps.googleapis.com/maps/api/geocode/json?components=route:Annankatu|administrative_area\n",
    "# :Helsinki|country:Finland&key=YOUR_API_KEY\n",
    "# params = {\"address\": \"some city\", \"api_key\": \"api_key\"}"
   ]
  },
  {
   "cell_type": "code",
   "execution_count": 2,
   "metadata": {},
   "outputs": [],
   "source": [
    "# Dependencies and Setup\n",
    "import matplotlib.pyplot as plt\n",
    "import pandas as pd\n",
    "import numpy as np\n",
    "import requests\n",
    "import gmaps\n",
    "import os\n",
    "\n",
    "# Import API key\n",
    "from api_keys import google_maps_key"
   ]
  },
  {
   "cell_type": "markdown",
   "metadata": {},
   "source": [
    "### Store Part I results into DataFrame"
   ]
  },
  {
   "cell_type": "code",
   "execution_count": 4,
   "metadata": {},
   "outputs": [
    {
     "data": {
      "text/html": [
       "<div>\n",
       "<style scoped>\n",
       "    .dataframe tbody tr th:only-of-type {\n",
       "        vertical-align: middle;\n",
       "    }\n",
       "\n",
       "    .dataframe tbody tr th {\n",
       "        vertical-align: top;\n",
       "    }\n",
       "\n",
       "    .dataframe thead th {\n",
       "        text-align: right;\n",
       "    }\n",
       "</style>\n",
       "<table border=\"1\" class=\"dataframe\">\n",
       "  <thead>\n",
       "    <tr style=\"text-align: right;\">\n",
       "      <th></th>\n",
       "      <th>Unnamed: 0</th>\n",
       "      <th>City</th>\n",
       "      <th>Country</th>\n",
       "      <th>Latitude</th>\n",
       "      <th>Longitude</th>\n",
       "      <th>Mid-day Temperature</th>\n",
       "      <th>Humidity</th>\n",
       "      <th>Cloudiness</th>\n",
       "      <th>Wind Speed</th>\n",
       "      <th>Date</th>\n",
       "    </tr>\n",
       "  </thead>\n",
       "  <tbody>\n",
       "    <tr>\n",
       "      <th>0</th>\n",
       "      <td>0</td>\n",
       "      <td>Metchosin</td>\n",
       "      <td>CA</td>\n",
       "      <td>48.39</td>\n",
       "      <td>-123.54</td>\n",
       "      <td>40.0</td>\n",
       "      <td>75</td>\n",
       "      <td>20</td>\n",
       "      <td>3.10</td>\n",
       "      <td>2020-10-24 14:25:51</td>\n",
       "    </tr>\n",
       "    <tr>\n",
       "      <th>1</th>\n",
       "      <td>1</td>\n",
       "      <td>Xinyuan</td>\n",
       "      <td>CN</td>\n",
       "      <td>38.13</td>\n",
       "      <td>99.52</td>\n",
       "      <td>28.0</td>\n",
       "      <td>86</td>\n",
       "      <td>100</td>\n",
       "      <td>1.57</td>\n",
       "      <td>2020-10-24 14:25:52</td>\n",
       "    </tr>\n",
       "    <tr>\n",
       "      <th>2</th>\n",
       "      <td>2</td>\n",
       "      <td>Wade Hampton Census Area</td>\n",
       "      <td>US</td>\n",
       "      <td>63.13</td>\n",
       "      <td>-161.68</td>\n",
       "      <td>37.4</td>\n",
       "      <td>86</td>\n",
       "      <td>90</td>\n",
       "      <td>4.10</td>\n",
       "      <td>2020-10-24 14:25:52</td>\n",
       "    </tr>\n",
       "    <tr>\n",
       "      <th>3</th>\n",
       "      <td>3</td>\n",
       "      <td>Split Lake</td>\n",
       "      <td>CA</td>\n",
       "      <td>55.95</td>\n",
       "      <td>-95.53</td>\n",
       "      <td>21.2</td>\n",
       "      <td>73</td>\n",
       "      <td>90</td>\n",
       "      <td>6.20</td>\n",
       "      <td>2020-10-24 14:25:52</td>\n",
       "    </tr>\n",
       "    <tr>\n",
       "      <th>4</th>\n",
       "      <td>4</td>\n",
       "      <td>Torba Province</td>\n",
       "      <td>VU</td>\n",
       "      <td>-13.04</td>\n",
       "      <td>168.61</td>\n",
       "      <td>80.7</td>\n",
       "      <td>81</td>\n",
       "      <td>97</td>\n",
       "      <td>7.05</td>\n",
       "      <td>2020-10-24 14:25:53</td>\n",
       "    </tr>\n",
       "  </tbody>\n",
       "</table>\n",
       "</div>"
      ],
      "text/plain": [
       "   Unnamed: 0                      City Country  Latitude  Longitude  \\\n",
       "0           0                 Metchosin      CA     48.39    -123.54   \n",
       "1           1                   Xinyuan      CN     38.13      99.52   \n",
       "2           2  Wade Hampton Census Area      US     63.13    -161.68   \n",
       "3           3                Split Lake      CA     55.95     -95.53   \n",
       "4           4            Torba Province      VU    -13.04     168.61   \n",
       "\n",
       "   Mid-day Temperature  Humidity  Cloudiness  Wind Speed                 Date  \n",
       "0                 40.0        75          20        3.10  2020-10-24 14:25:51  \n",
       "1                 28.0        86         100        1.57  2020-10-24 14:25:52  \n",
       "2                 37.4        86          90        4.10  2020-10-24 14:25:52  \n",
       "3                 21.2        73          90        6.20  2020-10-24 14:25:52  \n",
       "4                 80.7        81          97        7.05  2020-10-24 14:25:53  "
      ]
     },
     "execution_count": 4,
     "metadata": {},
     "output_type": "execute_result"
    }
   ],
   "source": [
    "df = pd.read_csv(\"../WeatherPy/Cities Weather Log.csv\")\n",
    "df.head()"
   ]
  },
  {
   "cell_type": "markdown",
   "metadata": {},
   "source": [
    "### Humidity Heatmap\n",
    "* Gmaps (a Python library client for Google Maps services) is used to plot temperature data as a heat map."
   ]
  },
  {
   "cell_type": "code",
   "execution_count": 6,
   "metadata": {},
   "outputs": [],
   "source": [
    "# Configure gmaps with Google Maps API key.\n",
    "gmaps.configure(api_key=google_maps_key)"
   ]
  },
  {
   "cell_type": "code",
   "execution_count": 14,
   "metadata": {},
   "outputs": [],
   "source": [
    "# Parse Latitude, Longitude, and Mid-day Temperature colums into two new DataFrames for plotting.\n",
    "# A heat map cannot display negative values, so temperatures are shifted 25 degrees to ensure all\n",
    "# temperatures are positive.\n",
    "locations = df[[\"Latitude\", \"Longitude\"]].astype(float)\n",
    "temperatures = df[\"Mid-day Temperature\"].astype(float)\n",
    "temperatures_shifted = df[\"Mid-day Temperature\"] + 25"
   ]
  },
  {
   "cell_type": "code",
   "execution_count": 37,
   "metadata": {},
   "outputs": [
    {
     "data": {
      "application/vnd.jupyter.widget-view+json": {
       "model_id": "909d05dc3a2d4dbd9752905467993f4b",
       "version_major": 2,
       "version_minor": 0
      },
      "text/plain": [
       "Figure(layout=FigureLayout(height='420px'))"
      ]
     },
     "metadata": {},
     "output_type": "display_data"
    }
   ],
   "source": [
    "# Create a heat map layer with Mid-day Temperature as heat map weights.\n",
    "figure = gmaps.figure()\n",
    "layer = gmaps.heatmap_layer(locations, weights = temperatures_shifted, dissipating = False, max_intensity = 175, point_radius = 5, opacity = 0.25)\n",
    "figure.add_layer(layer)\n",
    "figure"
   ]
  },
  {
   "cell_type": "markdown",
   "metadata": {},
   "source": [
    "### Create new DataFrame fitting weather criteria\n",
    "* Narrow down the cities to fit weather conditions.\n",
    "* Drop any rows will null values."
   ]
  },
  {
   "cell_type": "code",
   "execution_count": null,
   "metadata": {},
   "outputs": [],
   "source": []
  },
  {
   "cell_type": "code",
   "execution_count": null,
   "metadata": {},
   "outputs": [],
   "source": []
  },
  {
   "cell_type": "markdown",
   "metadata": {},
   "source": [
    "### Hotel Map\n",
    "* Store into variable named `hotel_df`.\n",
    "* Add a \"Hotel Name\" column to the DataFrame.\n",
    "* Set parameters to search for hotels with 5000 meters.\n",
    "* Hit the Google Places API for each city's coordinates.\n",
    "* Store the first Hotel result into the DataFrame.\n",
    "* Plot markers on top of the heatmap."
   ]
  },
  {
   "cell_type": "code",
   "execution_count": null,
   "metadata": {},
   "outputs": [],
   "source": []
  },
  {
   "cell_type": "code",
   "execution_count": null,
   "metadata": {},
   "outputs": [],
   "source": []
  },
  {
   "cell_type": "code",
   "execution_count": null,
   "metadata": {},
   "outputs": [],
   "source": [
    "# NOTE: Do not change any of the code in this cell\n",
    "\n",
    "# Using the template add the hotel marks to the heatmap\n",
    "info_box_template = \"\"\"\n",
    "<dl>\n",
    "<dt>Name</dt><dd>{Hotel Name}</dd>\n",
    "<dt>City</dt><dd>{City}</dd>\n",
    "<dt>Country</dt><dd>{Country}</dd>\n",
    "</dl>\n",
    "\"\"\"\n",
    "# Store the DataFrame Row\n",
    "# NOTE: be sure to update with your DataFrame name\n",
    "hotel_info = [info_box_template.format(**row) for index, row in hotel_df.iterrows()]\n",
    "locations = hotel_df[[\"Lat\", \"Lng\"]]"
   ]
  },
  {
   "cell_type": "code",
   "execution_count": null,
   "metadata": {},
   "outputs": [],
   "source": [
    "# Add marker layer ontop of heat map\n",
    "\n",
    "\n",
    "# Display figure\n"
   ]
  },
  {
   "cell_type": "code",
   "execution_count": null,
   "metadata": {},
   "outputs": [],
   "source": []
  }
 ],
 "metadata": {
  "kernelspec": {
   "display_name": "Python 3",
   "language": "python",
   "name": "python3"
  },
  "language_info": {
   "codemirror_mode": {
    "name": "ipython",
    "version": 3
   },
   "file_extension": ".py",
   "mimetype": "text/x-python",
   "name": "python",
   "nbconvert_exporter": "python",
   "pygments_lexer": "ipython3",
   "version": "3.6.10"
  },
  "latex_envs": {
   "LaTeX_envs_menu_present": true,
   "autoclose": false,
   "autocomplete": true,
   "bibliofile": "biblio.bib",
   "cite_by": "apalike",
   "current_citInitial": 1,
   "eqLabelWithNumbers": true,
   "eqNumInitial": 1,
   "hotkeys": {
    "equation": "Ctrl-E",
    "itemize": "Ctrl-I"
   },
   "labels_anchors": false,
   "latex_user_defs": false,
   "report_style_numbering": false,
   "user_envs_cfg": false
  }
 },
 "nbformat": 4,
 "nbformat_minor": 4
}
