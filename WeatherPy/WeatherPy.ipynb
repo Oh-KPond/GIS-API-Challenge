{
 "cells": [
  {
   "cell_type": "markdown",
   "metadata": {},
   "source": [
    "# WeatherPy: A Spatial Analysis of Global Temperature Trends With Python APIs and Matplotlib Visualizations\n",
    "----"
   ]
  },
  {
   "cell_type": "code",
   "execution_count": 1,
   "metadata": {
    "scrolled": true
   },
   "outputs": [],
   "source": [
    "# Dependencies\n",
    "import numpy as np\n",
    "import pandas as pd\n",
    "import scipy as sp\n",
    "import matplotlib.pyplot as plt\n",
    "from citipy import citipy\n",
    "import random\n",
    "import requests\n",
    "import json\n",
    "from datetime import datetime\n",
    "from pprint import pprint\n",
    "\n",
    "# OpenWeatherMap API key\n",
    "from api_keys import open_weather_key as api_key"
   ]
  },
  {
   "cell_type": "markdown",
   "metadata": {},
   "source": [
    "## Generate lists of 1,500 random lat/long locations\n",
    "* Generate a list of 1,500 random locations between -54 and 64 degrees latitude and -180 and 180 degrees longitude. (-54 and 64 degrees latitude correspond with the northernmost and southernmost cities on earth.)"
   ]
  },
  {
   "cell_type": "code",
   "execution_count": 2,
   "metadata": {},
   "outputs": [],
   "source": [
    "# Generate list of random lat/long tuples to use in OpenWeatherMap API calls.\n",
    "\n",
    "lats = []\n",
    "longs = []\n",
    "latlongs = []\n",
    "\n",
    "# Populate lat and long lists with 1,500 random values to guarantee 500 successful API calls in later step.\n",
    "for i in range(1500):\n",
    "    # -54 and 64 represent the southernmost and northernmost cities on Earth.\n",
    "    lats.append(random.uniform(-54, 64))\n",
    "    # -180 and 180 are the max and min longitude values.\n",
    "    longs.append(random.uniform(-180, 180))\n",
    "\n",
    "latlongs = list(zip(lats, longs))"
   ]
  },
  {
   "cell_type": "code",
   "execution_count": 3,
   "metadata": {},
   "outputs": [
    {
     "name": "stdout",
     "output_type": "stream",
     "text": [
      "(0.5831416320030627, 128.96249593192306)\n"
     ]
    }
   ],
   "source": [
    "# As an alternative to using lat/longs for OpenWeatherMap API calls, obtain list of cities from citipy library\n",
    "# and call OpenWeatherMap by city. I chose to use the latlongs list instead.\n",
    "\n",
    "cities = []\n",
    "country_codes = []\n",
    "cities_countries = []\n",
    "\n",
    "for latlong in latlongs:\n",
    "    city = citipy.nearest_city(latlong[0], latlong[1]).city_name.capitalize()\n",
    "    # Call for cities and corresponding country codes until cities_1000 has 1,000 unique cities.\n",
    "    if (city not in cities and len(cities)<1000):\n",
    "        cities.append(city)\n",
    "        country_codes.append(citipy.nearest_city(latlong[0], latlong[1]).country_code.upper())\n",
    "\n",
    "# Zip cities and country codes into a single list to use in OpenWeatherMap API calls.\n",
    "cities_countries = zip(cities, country_codes)\n",
    "\n",
    "print(latlongs[0])"
   ]
  },
  {
   "cell_type": "markdown",
   "metadata": {},
   "source": [
    "### Perform API Calls\n",
    "* Using the latlongs list, perform 1,000 API calls to OpenWeatherMap to retrieve current weather for each location and build a log."
   ]
  },
  {
   "cell_type": "code",
   "execution_count": 4,
   "metadata": {
    "scrolled": false
   },
   "outputs": [
    {
     "name": "stdout",
     "output_type": "stream",
     "text": [
      "{\n",
      "    \"base\": \"stations\",\n",
      "    \"clouds\": {\n",
      "        \"all\": 20\n",
      "    },\n",
      "    \"cod\": 200,\n",
      "    \"coord\": {\n",
      "        \"lat\": 33.4,\n",
      "        \"lon\": -112\n",
      "    },\n",
      "    \"dt\": 1603411242,\n",
      "    \"id\": 5296962,\n",
      "    \"main\": {\n",
      "        \"feels_like\": 303.86,\n",
      "        \"humidity\": 18,\n",
      "        \"pressure\": 1008,\n",
      "        \"temp\": 306.32,\n",
      "        \"temp_max\": 307.04,\n",
      "        \"temp_min\": 305.37\n",
      "    },\n",
      "    \"name\": \"Guadalupe\",\n",
      "    \"sys\": {\n",
      "        \"country\": \"US\",\n",
      "        \"id\": 5347,\n",
      "        \"sunrise\": 1603373908,\n",
      "        \"sunset\": 1603413958,\n",
      "        \"type\": 1\n",
      "    },\n",
      "    \"timezone\": -25200,\n",
      "    \"visibility\": 10000,\n",
      "    \"weather\": [\n",
      "        {\n",
      "            \"description\": \"smoke\",\n",
      "            \"icon\": \"50d\",\n",
      "            \"id\": 711,\n",
      "            \"main\": \"Smoke\"\n",
      "        }\n",
      "    ],\n",
      "    \"wind\": {\n",
      "        \"deg\": 320,\n",
      "        \"speed\": 2.1\n",
      "    }\n",
      "}\n"
     ]
    }
   ],
   "source": [
    "# Make a sample API call to OpenWeatherMap to view json structure.\n",
    "url = \"https://api.openweathermap.org/data/2.5/weather?lat=\" + str(33.4) + \"&lon=\" + str(-112) + \"&appid=\" + api_key\n",
    "response = requests.get(url).json()\n",
    "#print(response[\"dt\"])\n",
    "print(json.dumps(response, indent=4, sort_keys=True))"
   ]
  },
  {
   "cell_type": "code",
   "execution_count": 10,
   "metadata": {},
   "outputs": [
    {
     "ename": "AttributeError",
     "evalue": "'dict' object has no attribute 'append'",
     "output_type": "error",
     "traceback": [
      "\u001b[1;31m---------------------------------------------------------------------------\u001b[0m",
      "\u001b[1;31mAttributeError\u001b[0m                            Traceback (most recent call last)",
      "\u001b[1;32m<ipython-input-10-34a42f5c29cd>\u001b[0m in \u001b[0;36m<module>\u001b[1;34m()\u001b[0m\n\u001b[0;32m     20\u001b[0m         \u001b[0mwind_speed\u001b[0m \u001b[1;33m=\u001b[0m \u001b[0mresponse\u001b[0m\u001b[1;33m[\u001b[0m\u001b[1;34m\"wind\"\u001b[0m\u001b[1;33m]\u001b[0m\u001b[1;33m[\u001b[0m\u001b[1;34m\"speed\"\u001b[0m\u001b[1;33m]\u001b[0m\u001b[1;33m\u001b[0m\u001b[1;33m\u001b[0m\u001b[0m\n\u001b[0;32m     21\u001b[0m         \u001b[0mcloudiness\u001b[0m \u001b[1;33m=\u001b[0m \u001b[0mresponse\u001b[0m\u001b[1;33m[\u001b[0m\u001b[1;34m\"clouds\"\u001b[0m\u001b[1;33m]\u001b[0m\u001b[1;33m[\u001b[0m\u001b[1;34m\"all\"\u001b[0m\u001b[1;33m]\u001b[0m\u001b[1;33m\u001b[0m\u001b[1;33m\u001b[0m\u001b[0m\n\u001b[1;32m---> 22\u001b[1;33m         cities_dict.append({\"City\": city, \n\u001b[0m\u001b[0;32m     23\u001b[0m                           \u001b[1;34m\"Lat\"\u001b[0m\u001b[1;33m:\u001b[0m \u001b[0mlat\u001b[0m\u001b[1;33m,\u001b[0m\u001b[1;33m\u001b[0m\u001b[1;33m\u001b[0m\u001b[0m\n\u001b[0;32m     24\u001b[0m                           \u001b[1;34m\"Lng\"\u001b[0m\u001b[1;33m:\u001b[0m \u001b[0mlong\u001b[0m\u001b[1;33m,\u001b[0m\u001b[1;33m\u001b[0m\u001b[1;33m\u001b[0m\u001b[0m\n",
      "\u001b[1;31mAttributeError\u001b[0m: 'dict' object has no attribute 'append'"
     ]
    }
   ],
   "source": [
    "# Loop through latlongs list, make calls to OpenWeatherMap api, parse the response, and append to cities_log.\n",
    "\n",
    "base_url = \"http://api.openweathermap.org/data/2.5/weather?\"\n",
    "city_number = 0\n",
    "cities_skipped = 0\n",
    "cities_dict = {}\n",
    "\n",
    "for latlong in latlongs:\n",
    "    city_number += 1\n",
    "    url = base_url + \"lat=\" + str(latlong[0]) + \"&lon=\" + str(latlong[1]) + \"&appid=\" + api_key\n",
    "    try:\n",
    "        response = requests.get(url).json()\n",
    "        date = datetime.utcfromtimestamp(response[\"dt\"]).strftime('%Y-%m-%d %H:%M:%S')\n",
    "        lat = response[\"coord\"][\"lat\"]\n",
    "        long = response[\"coord\"][\"lon\"]\n",
    "        city = response[\"name\"]\n",
    "        country_code = response[\"sys\"][\"country\"]\n",
    "        temp = response[\"main\"][\"temp\"]\n",
    "        humidity = response[\"main\"][\"humidity\"]\n",
    "        wind_speed = response[\"wind\"][\"speed\"]\n",
    "        cloudiness = response[\"clouds\"][\"all\"]\n",
    "        cities_dict.append({\"City\": city, \n",
    "                          \"Lat\": lat, \n",
    "                          \"Lng\": long, \n",
    "                          \"Max Temp\": max_temp,\n",
    "                          \"Humidity\": humidity,\n",
    "                          \"Cloudiness\": cloudiness,\n",
    "                          \"Wind Speed\": wind_speed,\n",
    "                          \"Country\": country_code,\n",
    "                          \"Date\": city_date})\n",
    "    except (KeyError):\n",
    "        pass\n",
    "\n",
    "city_log_df = pd.DataFrame(cities_dict)\n",
    "city_dict\n",
    "#select out humidity < 100%\n",
    "# Export cities log to csv file.\n",
    "#city_log_df.to_csv(\"cities_log.csv\")\n",
    "\n",
    "\n",
    "#print (\"sdfsd\")\n",
    "#lat.append(np.nan)"
   ]
  },
  {
   "cell_type": "code",
   "execution_count": null,
   "metadata": {},
   "outputs": [],
   "source": []
  },
  {
   "cell_type": "markdown",
   "metadata": {},
   "source": [
    "### Convert Raw Data to DataFrame\n",
    "* Export the city data into a .csv.\n",
    "* Display the DataFrame\n",
    "* City, Lat, Long, Max Temp, Humidity, Cloudiness, Wind Speed, Country, Date"
   ]
  },
  {
   "cell_type": "code",
   "execution_count": null,
   "metadata": {},
   "outputs": [],
   "source": []
  },
  {
   "cell_type": "code",
   "execution_count": null,
   "metadata": {},
   "outputs": [],
   "source": []
  },
  {
   "cell_type": "markdown",
   "metadata": {},
   "source": [
    "## Inspect the data and remove the cities where the humidity > 100%.\n",
    "----\n",
    "Skip this step if there are no cities that have humidity > 100%. "
   ]
  },
  {
   "cell_type": "code",
   "execution_count": null,
   "metadata": {},
   "outputs": [],
   "source": []
  },
  {
   "cell_type": "code",
   "execution_count": null,
   "metadata": {},
   "outputs": [],
   "source": [
    "#  Get the indices of cities that have humidity over 100%.\n"
   ]
  },
  {
   "cell_type": "code",
   "execution_count": null,
   "metadata": {},
   "outputs": [],
   "source": [
    "# Make a new DataFrame equal to the city data to drop all humidity outliers by index.\n",
    "# Passing \"inplace=False\" will make a copy of the city_data DataFrame, which we call \"clean_city_data\".\n"
   ]
  },
  {
   "cell_type": "code",
   "execution_count": null,
   "metadata": {},
   "outputs": [],
   "source": [
    "\n"
   ]
  },
  {
   "cell_type": "markdown",
   "metadata": {},
   "source": [
    "## Plotting the Data\n",
    "* Use proper labeling of the plots using plot titles (including date of analysis) and axes labels.\n",
    "* Save the plotted figures as .pngs."
   ]
  },
  {
   "cell_type": "markdown",
   "metadata": {},
   "source": [
    "## Latitude vs. Temperature Plot"
   ]
  },
  {
   "cell_type": "code",
   "execution_count": null,
   "metadata": {
    "scrolled": true
   },
   "outputs": [],
   "source": []
  },
  {
   "cell_type": "markdown",
   "metadata": {},
   "source": [
    "## Latitude vs. Humidity Plot"
   ]
  },
  {
   "cell_type": "code",
   "execution_count": null,
   "metadata": {},
   "outputs": [],
   "source": []
  },
  {
   "cell_type": "markdown",
   "metadata": {},
   "source": [
    "## Latitude vs. Cloudiness Plot"
   ]
  },
  {
   "cell_type": "code",
   "execution_count": null,
   "metadata": {},
   "outputs": [],
   "source": []
  },
  {
   "cell_type": "markdown",
   "metadata": {},
   "source": [
    "## Latitude vs. Wind Speed Plot"
   ]
  },
  {
   "cell_type": "code",
   "execution_count": null,
   "metadata": {},
   "outputs": [],
   "source": []
  },
  {
   "cell_type": "markdown",
   "metadata": {},
   "source": [
    "## Linear Regression"
   ]
  },
  {
   "cell_type": "code",
   "execution_count": null,
   "metadata": {},
   "outputs": [],
   "source": []
  },
  {
   "cell_type": "markdown",
   "metadata": {},
   "source": [
    "####  Northern Hemisphere - Max Temp vs. Latitude Linear Regression"
   ]
  },
  {
   "cell_type": "code",
   "execution_count": null,
   "metadata": {},
   "outputs": [],
   "source": []
  },
  {
   "cell_type": "markdown",
   "metadata": {},
   "source": [
    "####  Southern Hemisphere - Max Temp vs. Latitude Linear Regression"
   ]
  },
  {
   "cell_type": "code",
   "execution_count": null,
   "metadata": {},
   "outputs": [],
   "source": []
  },
  {
   "cell_type": "markdown",
   "metadata": {},
   "source": [
    "####  Northern Hemisphere - Humidity (%) vs. Latitude Linear Regression"
   ]
  },
  {
   "cell_type": "code",
   "execution_count": null,
   "metadata": {},
   "outputs": [],
   "source": []
  },
  {
   "cell_type": "markdown",
   "metadata": {},
   "source": [
    "####  Southern Hemisphere - Humidity (%) vs. Latitude Linear Regression"
   ]
  },
  {
   "cell_type": "code",
   "execution_count": null,
   "metadata": {},
   "outputs": [],
   "source": []
  },
  {
   "cell_type": "markdown",
   "metadata": {},
   "source": [
    "####  Northern Hemisphere - Cloudiness (%) vs. Latitude Linear Regression"
   ]
  },
  {
   "cell_type": "code",
   "execution_count": null,
   "metadata": {},
   "outputs": [],
   "source": []
  },
  {
   "cell_type": "markdown",
   "metadata": {},
   "source": [
    "####  Southern Hemisphere - Cloudiness (%) vs. Latitude Linear Regression"
   ]
  },
  {
   "cell_type": "code",
   "execution_count": null,
   "metadata": {},
   "outputs": [],
   "source": []
  },
  {
   "cell_type": "markdown",
   "metadata": {},
   "source": [
    "####  Northern Hemisphere - Wind Speed (mph) vs. Latitude Linear Regression"
   ]
  },
  {
   "cell_type": "code",
   "execution_count": null,
   "metadata": {},
   "outputs": [],
   "source": []
  },
  {
   "cell_type": "markdown",
   "metadata": {},
   "source": [
    "####  Southern Hemisphere - Wind Speed (mph) vs. Latitude Linear Regression"
   ]
  },
  {
   "cell_type": "code",
   "execution_count": null,
   "metadata": {},
   "outputs": [],
   "source": []
  },
  {
   "cell_type": "code",
   "execution_count": null,
   "metadata": {},
   "outputs": [],
   "source": []
  }
 ],
 "metadata": {
  "anaconda-cloud": {},
  "kernel_info": {
   "name": "python3"
  },
  "kernelspec": {
   "display_name": "Python 3",
   "language": "python",
   "name": "python3"
  },
  "language_info": {
   "codemirror_mode": {
    "name": "ipython",
    "version": 3
   },
   "file_extension": ".py",
   "mimetype": "text/x-python",
   "name": "python",
   "nbconvert_exporter": "python",
   "pygments_lexer": "ipython3",
   "version": "3.6.10"
  },
  "latex_envs": {
   "LaTeX_envs_menu_present": true,
   "autoclose": false,
   "autocomplete": true,
   "bibliofile": "biblio.bib",
   "cite_by": "apalike",
   "current_citInitial": 1,
   "eqLabelWithNumbers": true,
   "eqNumInitial": 1,
   "hotkeys": {
    "equation": "Ctrl-E",
    "itemize": "Ctrl-I"
   },
   "labels_anchors": false,
   "latex_user_defs": false,
   "report_style_numbering": false,
   "user_envs_cfg": false
  },
  "nteract": {
   "version": "0.12.3"
  }
 },
 "nbformat": 4,
 "nbformat_minor": 2
}
