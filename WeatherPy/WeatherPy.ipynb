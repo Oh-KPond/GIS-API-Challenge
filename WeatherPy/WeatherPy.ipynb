{
 "cells": [
  {
   "cell_type": "markdown",
   "metadata": {},
   "source": [
    "# WeatherPy: A Spatial Analysis of Global Temperature Trends With Python APIs and Matplotlib Visualizations\n",
    "----"
   ]
  },
  {
   "cell_type": "code",
   "execution_count": 3,
   "metadata": {
    "scrolled": true
   },
   "outputs": [],
   "source": [
    "# Dependencies\n",
    "import numpy as np\n",
    "import pandas as pd\n",
    "import scipy as sp\n",
    "import matplotlib.pyplot as plt\n",
    "from citipy import citipy\n",
    "import random\n",
    "import requests\n",
    "import json\n",
    "from datetime import datetime\n",
    "from pprint import pprint\n",
    "\n",
    "# OpenWeatherMap API key\n",
    "from api_keys import open_weather_key as api_key"
   ]
  },
  {
   "cell_type": "markdown",
   "metadata": {},
   "source": [
    "## Generate lists of 1,000 random lat/long locations\n",
    "* Generate a list of 1,500 random locations between -54 and 64 degrees latitude and -180 and 180 degrees longitude. (-54 and 64 degrees latitude correspond with the northernmost and southernmost cities on earth.)"
   ]
  },
  {
   "cell_type": "code",
   "execution_count": 4,
   "metadata": {},
   "outputs": [],
   "source": [
    "# Generate list of random lat/long tuples to use in OpenWeatherMap API calls.\n",
    "\n",
    "lats = []\n",
    "longs = []\n",
    "latlongs = []\n",
    "\n",
    "# Populate lat and long lists with 1,500 random values to guarantee 500 successful API calls in later step.\n",
    "for i in range(1500):\n",
    "    # -54 and 64 represent the southernmost and northernmost cities on Earth.\n",
    "    lats.append(random.uniform(-54, 64))\n",
    "    # -180 and 180 are the max and min longitude values.\n",
    "    longs.append(random.uniform(-180, 180))\n",
    "\n",
    "latlongs = list(zip(lats, longs))"
   ]
  },
  {
   "cell_type": "code",
   "execution_count": 5,
   "metadata": {},
   "outputs": [],
   "source": [
    "# As an alternative to using lat/longs for OpenWeatherMap API calls, obtain list of cities from citipy library\n",
    "# and call OpenWeatherMap by city. I chose to use the latlongs list instead.\n",
    "\n",
    "cities = []\n",
    "country_codes = []\n",
    "cities_countries = []\n",
    "\n",
    "for latlong in latlongs:\n",
    "    city = citipy.nearest_city(latlong[0], latlong[1]).city_name.capitalize()\n",
    "    # Call for cities and corresponding country codes until cities_1000 has 1,000 unique cities.\n",
    "    if (city not in cities and len(cities)<1000):\n",
    "        cities.append(city)\n",
    "        country_codes.append(citipy.nearest_city(latlong[0], latlong[1]).country_code.upper())\n",
    "\n",
    "# Zip cities and country codes into a single list to use in OpenWeatherMap API calls.\n",
    "cities_countries = zip(cities, country_codes)"
   ]
  },
  {
   "cell_type": "markdown",
   "metadata": {},
   "source": [
    "### Perform API Calls\n",
    "* Using the latlongs list, perform 1,000 API calls to OpenWeatherMap to retrieve current weather for each location and build a log."
   ]
  },
  {
   "cell_type": "code",
   "execution_count": null,
   "metadata": {
    "scrolled": false
   },
   "outputs": [],
   "source": [
    "# Make a sample API call to OpenWeatherMap to view json structure.\n",
    "url = \"https://api.openweathermap.org/data/2.5/weather?lat=\" + str(33.4) + \"&lon=\" + str(-112) + \"&appid=\" + api_key\n",
    "response = requests.get(url).json()\n",
    "print(response[\"dt\"])\n",
    "print(json.dumps(response, indent=4, sort_keys=True))"
   ]
  },
  {
   "cell_type": "code",
   "execution_count": 7,
   "metadata": {},
   "outputs": [
    {
     "name": "stdout",
     "output_type": "stream",
     "text": [
      "1500\n"
     ]
    }
   ],
   "source": [
    "# Loop through latlongs list, make calls to OpenWeatherMap api, parse the response, and append to cities_log.\n",
    "\n",
    "base_url = \"https://api.openweathermap.org/data/2.5/weather?\"\n",
    "city_number = 0\n",
    "cities_skipped = 0\n",
    "\n",
    "for latlong in latlongs:\n",
    "    city_number += 1\n",
    "    url = base_url + \"lat=\" + str(latlong[0]) + \"&lon=\" + str(latlong[1]) + \"&units=imperial\" + \"&appid=\" + api_key\n",
    "    try:\n",
    "        response = requests.get(url).json()\n",
    "        date = datetime.utcfromtimestamp(response[\"dt\"]).strftime('%Y-%m-%d %H:%M:%S')\n",
    "        lat = response[\"coord\"][\"lat\"]\n",
    "        long = response[\"coord\"][\"long\"]\n",
    "        city = response[\"name\"]\n",
    "        country_code = response[\"sys\"][\"country\"]\n",
    "        temp = response[\"main\"][\"temp\"]\n",
    "        humidity = response[\"main\"][\"humidity\"]\n",
    "        wind_speed = response[\"wind\"][\"speed\"]\n",
    "        cloudiness = response[\"clouds\"][\"all\"]\n",
    "        cities_log = cities_log + f\"\\n {city_number} {date} {lat} {long} {city} {country_code} {temp} {humidity} {wind_speed} {cloudiness}\"\n",
    "    except (KeyError):\n",
    "        cities_skipped += 1\n",
    "    \n",
    "print(cities_skipped)\n",
    "\n",
    "# Export cities log to csv file.\n",
    "#with open(\"cities_log.csv\", \"w\", newline = \"\") as output_file:\n",
    "#    output_file.write(cities_log)\n",
    "\n",
    "#print (\"sdfsd\")\n",
    "#lat.appen(np.nan)"
   ]
  },
  {
   "cell_type": "code",
   "execution_count": null,
   "metadata": {},
   "outputs": [],
   "source": []
  },
  {
   "cell_type": "markdown",
   "metadata": {},
   "source": [
    "### Convert Raw Data to DataFrame\n",
    "* Export the city data into a .csv.\n",
    "* Display the DataFrame\n",
    "* City, Lat, Long, Max Temp, Humidity, Cloudiness, Wind Speed, Country, Date"
   ]
  },
  {
   "cell_type": "code",
   "execution_count": null,
   "metadata": {},
   "outputs": [],
   "source": []
  },
  {
   "cell_type": "code",
   "execution_count": null,
   "metadata": {},
   "outputs": [],
   "source": []
  },
  {
   "cell_type": "markdown",
   "metadata": {},
   "source": [
    "## Inspect the data and remove the cities where the humidity > 100%.\n",
    "----\n",
    "Skip this step if there are no cities that have humidity > 100%. "
   ]
  },
  {
   "cell_type": "code",
   "execution_count": null,
   "metadata": {},
   "outputs": [],
   "source": []
  },
  {
   "cell_type": "code",
   "execution_count": null,
   "metadata": {},
   "outputs": [],
   "source": [
    "#  Get the indices of cities that have humidity over 100%.\n"
   ]
  },
  {
   "cell_type": "code",
   "execution_count": null,
   "metadata": {},
   "outputs": [],
   "source": [
    "# Make a new DataFrame equal to the city data to drop all humidity outliers by index.\n",
    "# Passing \"inplace=False\" will make a copy of the city_data DataFrame, which we call \"clean_city_data\".\n"
   ]
  },
  {
   "cell_type": "code",
   "execution_count": null,
   "metadata": {},
   "outputs": [],
   "source": [
    "\n"
   ]
  },
  {
   "cell_type": "markdown",
   "metadata": {},
   "source": [
    "## Plotting the Data\n",
    "* Use proper labeling of the plots using plot titles (including date of analysis) and axes labels.\n",
    "* Save the plotted figures as .pngs."
   ]
  },
  {
   "cell_type": "markdown",
   "metadata": {},
   "source": [
    "## Latitude vs. Temperature Plot"
   ]
  },
  {
   "cell_type": "code",
   "execution_count": null,
   "metadata": {
    "scrolled": true
   },
   "outputs": [],
   "source": []
  },
  {
   "cell_type": "markdown",
   "metadata": {},
   "source": [
    "## Latitude vs. Humidity Plot"
   ]
  },
  {
   "cell_type": "code",
   "execution_count": null,
   "metadata": {},
   "outputs": [],
   "source": []
  },
  {
   "cell_type": "markdown",
   "metadata": {},
   "source": [
    "## Latitude vs. Cloudiness Plot"
   ]
  },
  {
   "cell_type": "code",
   "execution_count": null,
   "metadata": {},
   "outputs": [],
   "source": []
  },
  {
   "cell_type": "markdown",
   "metadata": {},
   "source": [
    "## Latitude vs. Wind Speed Plot"
   ]
  },
  {
   "cell_type": "code",
   "execution_count": null,
   "metadata": {},
   "outputs": [],
   "source": []
  },
  {
   "cell_type": "markdown",
   "metadata": {},
   "source": [
    "## Linear Regression"
   ]
  },
  {
   "cell_type": "code",
   "execution_count": null,
   "metadata": {},
   "outputs": [],
   "source": []
  },
  {
   "cell_type": "markdown",
   "metadata": {},
   "source": [
    "####  Northern Hemisphere - Max Temp vs. Latitude Linear Regression"
   ]
  },
  {
   "cell_type": "code",
   "execution_count": null,
   "metadata": {},
   "outputs": [],
   "source": []
  },
  {
   "cell_type": "markdown",
   "metadata": {},
   "source": [
    "####  Southern Hemisphere - Max Temp vs. Latitude Linear Regression"
   ]
  },
  {
   "cell_type": "code",
   "execution_count": null,
   "metadata": {},
   "outputs": [],
   "source": []
  },
  {
   "cell_type": "markdown",
   "metadata": {},
   "source": [
    "####  Northern Hemisphere - Humidity (%) vs. Latitude Linear Regression"
   ]
  },
  {
   "cell_type": "code",
   "execution_count": null,
   "metadata": {},
   "outputs": [],
   "source": []
  },
  {
   "cell_type": "markdown",
   "metadata": {},
   "source": [
    "####  Southern Hemisphere - Humidity (%) vs. Latitude Linear Regression"
   ]
  },
  {
   "cell_type": "code",
   "execution_count": null,
   "metadata": {},
   "outputs": [],
   "source": []
  },
  {
   "cell_type": "markdown",
   "metadata": {},
   "source": [
    "####  Northern Hemisphere - Cloudiness (%) vs. Latitude Linear Regression"
   ]
  },
  {
   "cell_type": "code",
   "execution_count": null,
   "metadata": {},
   "outputs": [],
   "source": []
  },
  {
   "cell_type": "markdown",
   "metadata": {},
   "source": [
    "####  Southern Hemisphere - Cloudiness (%) vs. Latitude Linear Regression"
   ]
  },
  {
   "cell_type": "code",
   "execution_count": null,
   "metadata": {},
   "outputs": [],
   "source": []
  },
  {
   "cell_type": "markdown",
   "metadata": {},
   "source": [
    "####  Northern Hemisphere - Wind Speed (mph) vs. Latitude Linear Regression"
   ]
  },
  {
   "cell_type": "code",
   "execution_count": null,
   "metadata": {},
   "outputs": [],
   "source": []
  },
  {
   "cell_type": "markdown",
   "metadata": {},
   "source": [
    "####  Southern Hemisphere - Wind Speed (mph) vs. Latitude Linear Regression"
   ]
  },
  {
   "cell_type": "code",
   "execution_count": null,
   "metadata": {},
   "outputs": [],
   "source": []
  },
  {
   "cell_type": "code",
   "execution_count": null,
   "metadata": {},
   "outputs": [],
   "source": []
  }
 ],
 "metadata": {
  "anaconda-cloud": {},
  "kernel_info": {
   "name": "python3"
  },
  "kernelspec": {
   "display_name": "Python 3",
   "language": "python",
   "name": "python3"
  },
  "language_info": {
   "codemirror_mode": {
    "name": "ipython",
    "version": 3
   },
   "file_extension": ".py",
   "mimetype": "text/x-python",
   "name": "python",
   "nbconvert_exporter": "python",
   "pygments_lexer": "ipython3",
   "version": "3.6.10"
  },
  "latex_envs": {
   "LaTeX_envs_menu_present": true,
   "autoclose": false,
   "autocomplete": true,
   "bibliofile": "biblio.bib",
   "cite_by": "apalike",
   "current_citInitial": 1,
   "eqLabelWithNumbers": true,
   "eqNumInitial": 1,
   "hotkeys": {
    "equation": "Ctrl-E",
    "itemize": "Ctrl-I"
   },
   "labels_anchors": false,
   "latex_user_defs": false,
   "report_style_numbering": false,
   "user_envs_cfg": false
  },
  "nteract": {
   "version": "0.12.3"
  }
 },
 "nbformat": 4,
 "nbformat_minor": 2
}
